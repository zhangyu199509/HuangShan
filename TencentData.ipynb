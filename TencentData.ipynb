{
 "cells": [
  {
   "cell_type": "markdown",
   "metadata": {
    "toc": "true"
   },
   "source": [
    "# Table of Contents\n",
    " <p><div class=\"lev1 toc-item\"><a href=\"#腾讯数据整理\" data-toc-modified-id=\"腾讯数据整理-1\"><span class=\"toc-item-num\">1&nbsp;&nbsp;</span>腾讯数据整理</a></div><div class=\"lev2 toc-item\"><a href=\"#导入数据\" data-toc-modified-id=\"导入数据-11\"><span class=\"toc-item-num\">1.1&nbsp;&nbsp;</span>导入数据</a></div><div class=\"lev2 toc-item\"><a href=\"#得到数据坐标的最大最小值\" data-toc-modified-id=\"得到数据坐标的最大最小值-12\"><span class=\"toc-item-num\">1.2&nbsp;&nbsp;</span>得到数据坐标的最大最小值</a></div><div class=\"lev2 toc-item\"><a href=\"#导入黄山风景区地理位置信息\" data-toc-modified-id=\"导入黄山风景区地理位置信息-13\"><span class=\"toc-item-num\">1.3&nbsp;&nbsp;</span>导入黄山风景区地理位置信息</a></div><div class=\"lev2 toc-item\"><a href=\"#数据校准\" data-toc-modified-id=\"数据校准-14\"><span class=\"toc-item-num\">1.4&nbsp;&nbsp;</span>数据校准</a></div><div class=\"lev1 toc-item\"><a href=\"#校准黄山wifi数据\" data-toc-modified-id=\"校准黄山wifi数据-2\"><span class=\"toc-item-num\">2&nbsp;&nbsp;</span>校准黄山wifi数据</a></div><div class=\"lev2 toc-item\"><a href=\"#载入黄山数据\" data-toc-modified-id=\"载入黄山数据-21\"><span class=\"toc-item-num\">2.1&nbsp;&nbsp;</span>载入黄山数据</a></div><div class=\"lev2 toc-item\"><a href=\"#ap布设点经纬度对应\" data-toc-modified-id=\"ap布设点经纬度对应-22\"><span class=\"toc-item-num\">2.2&nbsp;&nbsp;</span>ap布设点经纬度对应</a></div>"
   ]
  },
  {
   "cell_type": "markdown",
   "metadata": {},
   "source": [
    "# 腾讯数据整理"
   ]
  },
  {
   "cell_type": "markdown",
   "metadata": {},
   "source": [
    "## 导入数据"
   ]
  },
  {
   "cell_type": "code",
   "execution_count": 95,
   "metadata": {
    "collapsed": true
   },
   "outputs": [],
   "source": [
    "import numpy as np\n",
    "import pandas as pd\n",
    "import seaborn as sns\n",
    "import matplotlib.pyplot as plt\n",
    "from scipy import sparse\n",
    "%matplotlib inline\n",
    "plt.style.use('ggplot')\n",
    "import datetime\n",
    "import os\n",
    "\n",
    "pd.set_option('display.width', 200)\n",
    "dir_path = os.path.dirname(os.getcwd())\n",
    "#读入腾讯位置数据\n",
    "os.chdir(dir_path+'/TencentData')\n",
    "files = os.listdir()[1:]\n",
    "tencent_data = []\n",
    "for file in files:\n",
    "    data_temp = pd.read_csv(file, usecols=['time','data'])\n",
    "    tencent_data.append(data_temp)\n",
    "tencent_data = pd.concat(tencent_data).reset_index(drop=True).drop_duplicates()\n",
    "#tencent_data['time'] = pd.to_datetime(tencent_data.time)"
   ]
  },
  {
   "cell_type": "markdown",
   "metadata": {},
   "source": [
    "## 得到数据坐标的最大最小值"
   ]
  },
  {
   "cell_type": "code",
   "execution_count": 100,
   "metadata": {
    "collapsed": true
   },
   "outputs": [],
   "source": [
    "#得到坐标数据最大最小值\n",
    "def str_info(data):\n",
    "    data = pd.Series(data.split('|')[:-1])\n",
    "    data_len = data.apply(lambda x:len(x.split(',')))\n",
    "    loc_x = data[data_len >= 2].apply(lambda x:int(x.split(',')[1]))\n",
    "    loc_y = data[data_len >= 2].apply(lambda x:int(x.split(',')[0]))\n",
    "    x_max = loc_x.max()\n",
    "    x_min = loc_x.min()\n",
    "    y_max = loc_y.max()\n",
    "    y_min = loc_y.min()\n",
    "    return x_max, x_min, y_max, y_min\n",
    "\n",
    "def get_data_info(frame):\n",
    "    data_temp = frame.data.iloc[0]\n",
    "    x_max, x_min, y_max, y_min = str_info(data_temp)\n",
    "    frame['x_max'] = x_max\n",
    "    frame['x_min'] = x_min\n",
    "    frame['y_max'] = y_max\n",
    "    frame['y_min'] = y_min\n",
    "    return frame\n",
    "\n",
    "tencent_data = tencent_data.groupby('time').apply(get_data_info).reset_index(drop=True)"
   ]
  },
  {
   "cell_type": "code",
   "execution_count": 110,
   "metadata": {
    "collapsed": true
   },
   "outputs": [],
   "source": [
    "x_max = tencent_data.x_max.max()\n",
    "x_min = tencent_data.x_min.min()\n",
    "y_max = tencent_data.y_max.max()\n",
    "y_min = tencent_data.y_min.min()"
   ]
  },
  {
   "cell_type": "markdown",
   "metadata": {},
   "source": [
    "## 导入黄山风景区地理位置信息"
   ]
  },
  {
   "cell_type": "code",
   "execution_count": 63,
   "metadata": {
    "collapsed": true
   },
   "outputs": [],
   "source": [
    "f = open(dir_path+'/info/HuangShan_geoinfo.txt')\n",
    "geo_information = f.read()\n",
    "geo_information = pd.Series(geo_information.replace('\\\"','').split('\\n'))\n",
    "dict_key = geo_information.apply(lambda x:x.split(':')[0])\n",
    "dict_value = geo_information.apply(lambda x:x.split(':')[1])\n",
    "geo_information = dict(zip(dict_key, dict_value))\n",
    "gcj = ['center_gcj','lower_left','upper_right']\n",
    "for i in gcj:\n",
    "    geo_information[i] = (float(geo_information[i].split(',')[0]), float(geo_information[i].split(',')[1]))"
   ]
  },
  {
   "cell_type": "code",
   "execution_count": 75,
   "metadata": {
    "collapsed": true
   },
   "outputs": [],
   "source": [
    "center = geo_information['center_gcj']\n",
    "l_left = geo_information['lower_left']\n",
    "u_right = geo_information['upper_right']\n",
    "bound = geo_information['boundary']\n",
    "bound = pd.DataFrame(bound.split('|')[:-1])\n",
    "bound.columns = ['location']\n",
    "bound['lat'] = bound.location.apply(lambda x:float(x.split(',')[0]))\n",
    "bound['lon'] = bound.location.apply(lambda x:float(x.split(',')[1]))"
   ]
  },
  {
   "cell_type": "markdown",
   "metadata": {},
   "source": [
    "## 数据校准"
   ]
  },
  {
   "cell_type": "code",
   "execution_count": 111,
   "metadata": {},
   "outputs": [
    {
     "data": {
      "text/plain": [
       "0.00010095636025998101"
      ]
     },
     "execution_count": 111,
     "metadata": {},
     "output_type": "execute_result"
    }
   ],
   "source": [
    "(u_right[0] - l_left[0])/(y_max - y_min)"
   ]
  },
  {
   "cell_type": "code",
   "execution_count": 112,
   "metadata": {},
   "outputs": [
    {
     "data": {
      "text/plain": [
       "0.00010179789473683717"
      ]
     },
     "execution_count": 112,
     "metadata": {},
     "output_type": "execute_result"
    }
   ],
   "source": [
    "(u_right[1] - l_left[1])/(x_max - x_min)"
   ]
  },
  {
   "cell_type": "code",
   "execution_count": 114,
   "metadata": {},
   "outputs": [
    {
     "data": {
      "text/plain": [
       "0.00010313213822717324"
      ]
     },
     "execution_count": 114,
     "metadata": {},
     "output_type": "execute_result"
    }
   ],
   "source": [
    "(u_right[0] - center[0])/y_max"
   ]
  },
  {
   "cell_type": "code",
   "execution_count": 116,
   "metadata": {},
   "outputs": [
    {
     "data": {
      "text/plain": [
       "9.8780582292788788e-05"
      ]
     },
     "execution_count": 116,
     "metadata": {},
     "output_type": "execute_result"
    }
   ],
   "source": [
    "(center[0] - l_left[0])/-y_min"
   ]
  },
  {
   "cell_type": "code",
   "execution_count": 115,
   "metadata": {},
   "outputs": [
    {
     "data": {
      "text/plain": [
       "9.6583280665937858e-05"
      ]
     },
     "execution_count": 115,
     "metadata": {},
     "output_type": "execute_result"
    }
   ],
   "source": [
    "(u_right[1] - center[1])/x_max"
   ]
  },
  {
   "cell_type": "code",
   "execution_count": 117,
   "metadata": {
    "scrolled": true
   },
   "outputs": [
    {
     "data": {
      "text/plain": [
       "0.00010708769832360185"
      ]
     },
     "execution_count": 117,
     "metadata": {},
     "output_type": "execute_result"
    }
   ],
   "source": [
    "(center[1] - l_left[1])/-x_min"
   ]
  },
  {
   "cell_type": "code",
   "execution_count": 164,
   "metadata": {
    "collapsed": true,
    "scrolled": true
   },
   "outputs": [],
   "source": [
    "#坐标数值转换成经纬度\n",
    "def x2lon(x):\n",
    "    return x*0.0001 + center[1]\n",
    "def y2lat(y):\n",
    "    return y*0.0001 + center[0]\n",
    "\n",
    "def str_loc(frame):\n",
    "    data_temp = frame.loc_str.iloc[0].split(',')\n",
    "    frame['x'] = int(data_temp[1])\n",
    "    frame['y'] = int(data_temp[0])\n",
    "    if len(data_temp) == 3:\n",
    "        frame['human_cnt'] = int(data_temp[2])\n",
    "    else:\n",
    "        frame['human_cnt'] = 1\n",
    "    frame['loc_str'] = data_temp[1]+','+data_temp[0]\n",
    "    return frame\n",
    "    \n",
    "def str2dataframe(data):\n",
    "    data = pd.DataFrame(data.split('|')[:-1])\n",
    "    data.columns = ['loc_str']\n",
    "    data = data.groupby('loc_str').apply(str_loc).reset_index(drop=True)\n",
    "    data['lon'] = data.x.apply(x2lon)\n",
    "    data['lat'] = data.y.apply(y2lat)\n",
    "    return data"
   ]
  },
  {
   "cell_type": "code",
   "execution_count": 126,
   "metadata": {
    "scrolled": true
   },
   "outputs": [
    {
     "data": {
      "text/plain": [
       "<matplotlib.collections.PathCollection at 0x112f84f98>"
      ]
     },
     "execution_count": 126,
     "metadata": {},
     "output_type": "execute_result"
    },
    {
     "data": {
      "image/png": "[encoded data removed]",
      "text/plain": [
       "<matplotlib.figure.Figure at 0x1b1f59ef0>"
      ]
     },
     "metadata": {},
     "output_type": "display_data"
    }
   ],
   "source": [
    "data = tencent_data[tencent_data.time == '2017-01-20 20:00:00'].data.iloc[0]\n",
    "data = str2dataframe(data)\n",
    "\n",
    "fig = plt.figure(figsize=(10,10),dpi=100)\n",
    "ax = fig.add_subplot(111)\n",
    "ax.plot(bound.lon,bound.lat)\n",
    "ax.scatter(center[1],center[0])\n",
    "ax.plot([l_left[1],u_right[1],u_right[1],l_left[1],l_left[1]],[l_left[0],l_left[0],u_right[0],u_right[0],l_left[0]])\n",
    "ax.scatter(data.lon, data.lat, s=data.human_cnt*5)"
   ]
  },
  {
   "cell_type": "markdown",
   "metadata": {},
   "source": [
    "# 校准黄山wifi数据"
   ]
  },
  {
   "cell_type": "markdown",
   "metadata": {},
   "source": [
    "## 载入黄山数据"
   ]
  },
  {
   "cell_type": "code",
   "execution_count": 127,
   "metadata": {},
   "outputs": [
    {
     "name": "stderr",
     "output_type": "stream",
     "text": [
      "/Users/zhangyu/anaconda/lib/python3.6/site-packages/ipykernel_launcher.py:23: UserWarning: This pattern has match groups. To actually get the groups, use str.extract.\n"
     ]
    }
   ],
   "source": [
    "os.chdir(dir_path+'/info')\n",
    "#载入ap点位\n",
    "ap = pd.read_csv('AP.csv', encoding='gbk')\n",
    "ap.location = ap.location.astype(str)\n",
    "#不同区域的代码\n",
    "area = pd.read_csv('area.csv', encoding='gbk')\n",
    "area.area = area.area.astype(str)\n",
    "ap = pd.merge(ap, area).sort_values('ap_seq')\n",
    "ap_reduce = ap.loc[:,['ap_seq','area_id']]\n",
    "\n",
    "#import经过整理的vendor\n",
    "vendor = pd.read_csv('oui.csv', encoding='gbk')\n",
    "vendor.columns = ['mac6', 'vendor']\n",
    "vendor['vendor'] = vendor.vendor.str.replace('\"', '')\n",
    "vendor['mac6'] = vendor.mac6.str.upper()\n",
    "v_names = ['Apple', 'Xiaomi', 'Samsung', 'Huawei', 'Motorola', 'Microsoft', 'Oppo', 'H3C', 'Aruba', 'TP-LINK', 'D-Link', 'zte',\n",
    "           'Murata', 'MEIZU', 'Intel', 'vivo', 'Hon Hai', 'HTC', 'Lenovo Mobile', 'Cisco', 'Ereneben', 'AzureWave', 'ASUSTek',\n",
    "           'Sony Mobile', 'Liteon', 'LG Electronics', 'Nokia', 'Amazon', 'OnePlus', 'SYNTECH (HK)', 'Gionee', 'Smartisan', 'BBK',\n",
    "           'Yulong', 'Qiku', 'Hisense', 'Tenda', 'Jing Ren', 'Wistron', 'Doukan', 'InPro', 'Dell', 'Net Com', 'Bilian', 'EASY3CALL',\n",
    "           'Lemobile', 'Airgo', 'Wingtech', 'Paragon', 'Ruckus Wireless', 'RF-LINK', 'Le Shi Zhi Xin', 'Hui Zhou Gaoshengda', \n",
    "           'HIWIFI', 'Chicony', 'Beijing SHENQI', 'SYNTECH', 'AMPAK', 'private', 'LONGCHEER', 'TCT']\n",
    "for name in v_names:\n",
    "    vendor['vendor'] = np.where(vendor.vendor.str.contains(name, case=False), name, vendor.vendor)\n",
    "'''\n",
    "device_name = ['H3C', 'Aruba', 'TP-LINK', 'D-Link', 'Intel', 'Hon Hai', 'Cisco', 'AzureWave', 'Liteon', \n",
    "               'SYNTECH (HK)', 'Tenda', 'Jing Ren', 'Wistron', 'Doukan', 'InPro', 'Net Com', 'Bilian', 'EASY3CALL',\n",
    "                'Lemobile', 'Airgo', 'Wingtech', 'Paragon', 'Ruckus Wireless', 'RF-LINK', 'Le Shi Zhi Xin', 'Hui Zhou Gaoshengda',\n",
    "                'HIWIFI', 'Chicony', 'Beijing SHENQI', 'SYNTECH', 'AMPAK', 'private']\n",
    "'''\n",
    "mobile_name = ['Apple', 'Murata', 'Xiaomi', 'Huawei', 'Samsung', 'Oppo', 'vivo', 'MEIZU', 'Yulong', 'zte', \n",
    "               'Sony Mobile', 'BBK', 'Lenovo Mobile', 'HTC', 'Smartisan', 'LG Electronics', 'Qiku', 'Microsoft', 'Gionee', \n",
    "               'TCT', 'OnePlus', 'LONGCHEER', 'Hisense', 'Motorola', 'Nokia']\n",
    "vendor['mobile']=np.where(vendor.vendor.isin(mobile_name), True, False)"
   ]
  },
  {
   "cell_type": "code",
   "execution_count": 131,
   "metadata": {
    "collapsed": true
   },
   "outputs": [],
   "source": [
    "#载入数据\n",
    "tw_span = 5\n",
    "files = os.listdir(dir_path+'/CleanData')\n",
    "data = []\n",
    "fileMax = 100\n",
    "fileCnt = 0\n",
    "for datafile in files:\n",
    "    path = dir_path + '/CleanData/' + datafile\n",
    "    frame = pd.read_csv(path, encoding='gbk')                 \n",
    "    data.append(frame)\n",
    "    fileCnt += 1\n",
    "    if fileCnt >= fileMax:\n",
    "        break\n",
    "data = pd.concat(data, ignore_index = False)\n",
    "data['date'] = pd.to_datetime(data.date)\n",
    "data['tw_all'] = ((data.date-data.date.min())/pd.Timedelta(days=1)*(24*60/tw_span)+data.tw).astype(int)\n",
    "del data['Unnamed: 0']\n",
    "data['mac6'] = data.mac.str[:6]\n",
    "data = pd.merge(data, vendor, on='mac6')\n",
    "data = pd.merge(data, ap_reduce, on='ap_seq')\n",
    "s = ['2','6','A','E']\n",
    "data['randMac'] = data.mac.str[1].isin(s)\n",
    "data = data[-data.randMac]\n",
    "m_data = data[data.mobile==True]"
   ]
  },
  {
   "cell_type": "code",
   "execution_count": 132,
   "metadata": {},
   "outputs": [
    {
     "name": "stderr",
     "output_type": "stream",
     "text": [
      "/Users/zhangyu/anaconda/lib/python3.6/site-packages/ipykernel_launcher.py:7: SettingWithCopyWarning: \n",
      "A value is trying to be set on a copy of a slice from a DataFrame.\n",
      "Try using .loc[row_indexer,col_indexer] = value instead\n",
      "\n",
      "See the caveats in the documentation: http://pandas.pydata.org/pandas-docs/stable/indexing.html#indexing-view-versus-copy\n",
      "  import sys\n"
     ]
    }
   ],
   "source": [
    "#去掉只在新国线或索道下站出现的mac (mac数量从184016下降到151251)\n",
    "temp = m_data[m_data.ap_seq.isin([1,2,3,14,15,18])==False]\n",
    "mac = temp.groupby(['mac','date']).apply(len).reset_index(name='cnt').groupby('mac').apply(len).reset_index(name='day_cnt')\n",
    "location = temp.groupby(['mac','ap_seq']).apply(len).reset_index(name='cnt').groupby('mac').apply(len).reset_index(name='location_cnt')\n",
    "mac = pd.merge(mac, location, on='mac')\n",
    "g_data = m_data[m_data.mac.isin(mac.mac)]\n",
    "g_data['weekday'] = g_data.date.dt.weekday < 5\n",
    "g_data = g_data.sort_values(['mac','tw_all'])"
   ]
  },
  {
   "cell_type": "code",
   "execution_count": 133,
   "metadata": {
    "collapsed": true
   },
   "outputs": [],
   "source": [
    "#去掉工作人员\n",
    "data_temp = g_data.groupby(['mac','date']).apply(len).reset_index()\n",
    "data_temp = data_temp.groupby('mac').apply(len).reset_index(name='cnt')\n",
    "staff = data_temp[data_temp.cnt > 7]\n",
    "staff_mac = staff.mac\n",
    "g_data = g_data[g_data.mac.isin(staff_mac) == False]"
   ]
  },
  {
   "cell_type": "code",
   "execution_count": 134,
   "metadata": {
    "collapsed": true
   },
   "outputs": [],
   "source": [
    "#标记春节\n",
    "def festival(frame):\n",
    "    if (frame.date.iloc[0] > pd.to_datetime('2017-01-26 00:00:00')) and (frame.date.iloc[0] < pd.to_datetime('2017-02-03 00:00:00')):\n",
    "        frame['festival'] = True\n",
    "    else:\n",
    "        frame['festival'] = False\n",
    "    return frame\n",
    "g_data = g_data.groupby('date').apply(festival)\n",
    "g_data = g_data[['date','mac','tw','tw_all','vendor','area_id','weekday','festival']]"
   ]
  },
  {
   "cell_type": "markdown",
   "metadata": {},
   "source": [
    "## ap布设点经纬度对应"
   ]
  },
  {
   "cell_type": "code",
   "execution_count": 148,
   "metadata": {},
   "outputs": [
    {
     "data": {
      "text/plain": [
       "(30.05, 30.2)"
      ]
     },
     "execution_count": 148,
     "metadata": {},
     "output_type": "execute_result"
    },
    {
     "data": {
      "image/png": "[encoded data removed]",
      "text/plain": [
       "<matplotlib.figure.Figure at 0x14e1706d8>"
      ]
     },
     "metadata": {},
     "output_type": "display_data"
    }
   ],
   "source": [
    "area_location = pd.read_csv('area_location.csv')\n",
    "fig = plt.figure(figsize=(10,10),dpi=100)\n",
    "ax = fig.add_subplot(111)\n",
    "ax.plot(bound.lon,bound.lat)\n",
    "ax.scatter(area_location.lon_t, area_location.lat_t, s=1)\n",
    "for i in range(14):\n",
    "    ax.text(area_location.lon_t.iloc[i], area_location.lat_t.iloc[i], area_location.area.iloc[i], color='darkred')\n",
    "ax.set_xlim(118.10, 118.25)\n",
    "ax.set_ylim(30.05, 30.20)"
   ]
  },
  {
   "cell_type": "code",
   "execution_count": 150,
   "metadata": {
    "collapsed": true
   },
   "outputs": [],
   "source": [
    "area_location['x'] = (area_location.lon_t - center[1])/0.0001\n",
    "area_location['y'] = (area_location.lat_t - center[0])/0.0001\n",
    "\n",
    "area_location['x'] = area_location.x.astype('int')\n",
    "area_location['y'] = area_location.y.astype('int')\n",
    "area_location['x'] = area_location.x.astype('str')\n",
    "area_location['y'] = area_location.y.astype('str')\n",
    "\n",
    "area_location['loc_str'] = area_location.x + ',' + area_location.y"
   ]
  },
  {
   "cell_type": "code",
   "execution_count": 161,
   "metadata": {
    "collapsed": true
   },
   "outputs": [],
   "source": [
    "def str2dataframe2(data):\n",
    "    data = pd.DataFrame(data.split('|')[:-1])\n",
    "    data.columns = ['loc_str']\n",
    "    data = data.groupby('loc_str').apply(str_loc).reset_index(drop=True)\n",
    "    return data"
   ]
  },
  {
   "cell_type": "code",
   "execution_count": 195,
   "metadata": {},
   "outputs": [
    {
     "data": {
      "text/html": [
       "<div>\n",
       "<style>\n",
       "    .dataframe thead tr:only-child th {\n",
       "        text-align: right;\n",
       "    }\n",
       "\n",
       "    .dataframe thead th {\n",
       "        text-align: left;\n",
       "    }\n",
       "\n",
       "    .dataframe tbody tr th {\n",
       "        vertical-align: top;\n",
       "    }\n",
       "</style>\n",
       "<table border=\"1\" class=\"dataframe\">\n",
       "  <thead>\n",
       "    <tr style=\"text-align: right;\">\n",
       "      <th></th>\n",
       "      <th>area</th>\n",
       "      <th>x</th>\n",
       "      <th>y</th>\n",
       "      <th>area_id</th>\n",
       "      <th>lon_b</th>\n",
       "      <th>lat_b</th>\n",
       "      <th>lon_t</th>\n",
       "      <th>lat_t</th>\n",
       "      <th>loc_str</th>\n",
       "      <th>human_cnt</th>\n",
       "    </tr>\n",
       "  </thead>\n",
       "  <tbody>\n",
       "    <tr>\n",
       "      <th>0</th>\n",
       "      <td>BH</td>\n",
       "      <td>226</td>\n",
       "      <td>-99</td>\n",
       "      <td>0</td>\n",
       "      <td>118.177771</td>\n",
       "      <td>30.148025</td>\n",
       "      <td>118.171279</td>\n",
       "      <td>30.141769</td>\n",
       "      <td>226,-99</td>\n",
       "      <td>NaN</td>\n",
       "    </tr>\n",
       "    <tr>\n",
       "      <th>1</th>\n",
       "      <td>GMD</td>\n",
       "      <td>200</td>\n",
       "      <td>-195</td>\n",
       "      <td>1</td>\n",
       "      <td>118.175238</td>\n",
       "      <td>30.138285</td>\n",
       "      <td>118.168704</td>\n",
       "      <td>30.132156</td>\n",
       "      <td>200,-195</td>\n",
       "      <td>2.0</td>\n",
       "    </tr>\n",
       "    <tr>\n",
       "      <th>2</th>\n",
       "      <td>GMD</td>\n",
       "      <td>200</td>\n",
       "      <td>-195</td>\n",
       "      <td>1</td>\n",
       "      <td>118.175238</td>\n",
       "      <td>30.138285</td>\n",
       "      <td>118.168704</td>\n",
       "      <td>30.132156</td>\n",
       "      <td>200,-195</td>\n",
       "      <td>1.0</td>\n",
       "    </tr>\n",
       "    <tr>\n",
       "      <th>3</th>\n",
       "      <td>GMD</td>\n",
       "      <td>200</td>\n",
       "      <td>-195</td>\n",
       "      <td>1</td>\n",
       "      <td>118.175238</td>\n",
       "      <td>30.138285</td>\n",
       "      <td>118.168704</td>\n",
       "      <td>30.132156</td>\n",
       "      <td>200,-195</td>\n",
       "      <td>3.0</td>\n",
       "    </tr>\n",
       "    <tr>\n",
       "      <th>4</th>\n",
       "      <td>GMD</td>\n",
       "      <td>200</td>\n",
       "      <td>-195</td>\n",
       "      <td>1</td>\n",
       "      <td>118.175238</td>\n",
       "      <td>30.138285</td>\n",
       "      <td>118.168704</td>\n",
       "      <td>30.132156</td>\n",
       "      <td>200,-195</td>\n",
       "      <td>1.0</td>\n",
       "    </tr>\n",
       "    <tr>\n",
       "      <th>5</th>\n",
       "      <td>PYL</td>\n",
       "      <td>145</td>\n",
       "      <td>-116</td>\n",
       "      <td>2</td>\n",
       "      <td>118.169722</td>\n",
       "      <td>30.145902</td>\n",
       "      <td>118.163152</td>\n",
       "      <td>30.139987</td>\n",
       "      <td>145,-116</td>\n",
       "      <td>NaN</td>\n",
       "    </tr>\n",
       "    <tr>\n",
       "      <th>6</th>\n",
       "      <td>SL</td>\n",
       "      <td>218</td>\n",
       "      <td>-86</td>\n",
       "      <td>3</td>\n",
       "      <td>118.176980</td>\n",
       "      <td>30.149025</td>\n",
       "      <td>118.170421</td>\n",
       "      <td>30.143030</td>\n",
       "      <td>218,-86</td>\n",
       "      <td>1.0</td>\n",
       "    </tr>\n",
       "    <tr>\n",
       "      <th>7</th>\n",
       "      <td>TH</td>\n",
       "      <td>196</td>\n",
       "      <td>-215</td>\n",
       "      <td>4</td>\n",
       "      <td>118.174789</td>\n",
       "      <td>30.136189</td>\n",
       "      <td>118.168307</td>\n",
       "      <td>30.130152</td>\n",
       "      <td>196,-215</td>\n",
       "      <td>NaN</td>\n",
       "    </tr>\n",
       "    <tr>\n",
       "      <th>8</th>\n",
       "      <td>TP_D</td>\n",
       "      <td>126</td>\n",
       "      <td>212</td>\n",
       "      <td>5</td>\n",
       "      <td>118.167872</td>\n",
       "      <td>30.178439</td>\n",
       "      <td>118.161296</td>\n",
       "      <td>30.172901</td>\n",
       "      <td>126,212</td>\n",
       "      <td>NaN</td>\n",
       "    </tr>\n",
       "    <tr>\n",
       "      <th>9</th>\n",
       "      <td>TP_U</td>\n",
       "      <td>115</td>\n",
       "      <td>-106</td>\n",
       "      <td>6</td>\n",
       "      <td>118.166668</td>\n",
       "      <td>30.146839</td>\n",
       "      <td>118.160132</td>\n",
       "      <td>30.140998</td>\n",
       "      <td>115,-106</td>\n",
       "      <td>NaN</td>\n",
       "    </tr>\n",
       "    <tr>\n",
       "      <th>10</th>\n",
       "      <td>XGX</td>\n",
       "      <td>266</td>\n",
       "      <td>-879</td>\n",
       "      <td>7</td>\n",
       "      <td>118.181253</td>\n",
       "      <td>30.071027</td>\n",
       "      <td>118.175270</td>\n",
       "      <td>30.063770</td>\n",
       "      <td>266,-879</td>\n",
       "      <td>NaN</td>\n",
       "    </tr>\n",
       "    <tr>\n",
       "      <th>11</th>\n",
       "      <td>XH</td>\n",
       "      <td>170</td>\n",
       "      <td>-111</td>\n",
       "      <td>8</td>\n",
       "      <td>118.172255</td>\n",
       "      <td>30.146433</td>\n",
       "      <td>118.165711</td>\n",
       "      <td>30.140493</td>\n",
       "      <td>170,-111</td>\n",
       "      <td>NaN</td>\n",
       "    </tr>\n",
       "    <tr>\n",
       "      <th>12</th>\n",
       "      <td>YG_D</td>\n",
       "      <td>456</td>\n",
       "      <td>-310</td>\n",
       "      <td>9</td>\n",
       "      <td>118.200462</td>\n",
       "      <td>30.127286</td>\n",
       "      <td>118.194271</td>\n",
       "      <td>30.120649</td>\n",
       "      <td>456,-310</td>\n",
       "      <td>NaN</td>\n",
       "    </tr>\n",
       "    <tr>\n",
       "      <th>13</th>\n",
       "      <td>YG_U</td>\n",
       "      <td>270</td>\n",
       "      <td>-141</td>\n",
       "      <td>10</td>\n",
       "      <td>118.182083</td>\n",
       "      <td>30.143622</td>\n",
       "      <td>118.175640</td>\n",
       "      <td>30.137501</td>\n",
       "      <td>270,-141</td>\n",
       "      <td>NaN</td>\n",
       "    </tr>\n",
       "    <tr>\n",
       "      <th>14</th>\n",
       "      <td>YKS</td>\n",
       "      <td>272</td>\n",
       "      <td>-294</td>\n",
       "      <td>11</td>\n",
       "      <td>118.181310</td>\n",
       "      <td>30.128473</td>\n",
       "      <td>118.175860</td>\n",
       "      <td>30.122269</td>\n",
       "      <td>272,-294</td>\n",
       "      <td>NaN</td>\n",
       "    </tr>\n",
       "    <tr>\n",
       "      <th>15</th>\n",
       "      <td>YP_D</td>\n",
       "      <td>229</td>\n",
       "      <td>-459</td>\n",
       "      <td>12</td>\n",
       "      <td>118.177879</td>\n",
       "      <td>30.111479</td>\n",
       "      <td>118.171531</td>\n",
       "      <td>30.105693</td>\n",
       "      <td>229,-459</td>\n",
       "      <td>NaN</td>\n",
       "    </tr>\n",
       "    <tr>\n",
       "      <th>16</th>\n",
       "      <td>YP_U</td>\n",
       "      <td>211</td>\n",
       "      <td>-377</td>\n",
       "      <td>13</td>\n",
       "      <td>118.179981</td>\n",
       "      <td>30.129270</td>\n",
       "      <td>118.169814</td>\n",
       "      <td>30.113967</td>\n",
       "      <td>211,-377</td>\n",
       "      <td>NaN</td>\n",
       "    </tr>\n",
       "  </tbody>\n",
       "</table>\n",
       "</div>"
      ],
      "text/plain": [
       "    area    x     y  area_id       lon_b      lat_b       lon_t      lat_t   loc_str  human_cnt\n",
       "0     BH  226   -99        0  118.177771  30.148025  118.171279  30.141769   226,-99        NaN\n",
       "1    GMD  200  -195        1  118.175238  30.138285  118.168704  30.132156  200,-195        2.0\n",
       "2    GMD  200  -195        1  118.175238  30.138285  118.168704  30.132156  200,-195        1.0\n",
       "3    GMD  200  -195        1  118.175238  30.138285  118.168704  30.132156  200,-195        3.0\n",
       "4    GMD  200  -195        1  118.175238  30.138285  118.168704  30.132156  200,-195        1.0\n",
       "5    PYL  145  -116        2  118.169722  30.145902  118.163152  30.139987  145,-116        NaN\n",
       "6     SL  218   -86        3  118.176980  30.149025  118.170421  30.143030   218,-86        1.0\n",
       "7     TH  196  -215        4  118.174789  30.136189  118.168307  30.130152  196,-215        NaN\n",
       "8   TP_D  126   212        5  118.167872  30.178439  118.161296  30.172901   126,212        NaN\n",
       "9   TP_U  115  -106        6  118.166668  30.146839  118.160132  30.140998  115,-106        NaN\n",
       "10   XGX  266  -879        7  118.181253  30.071027  118.175270  30.063770  266,-879        NaN\n",
       "11    XH  170  -111        8  118.172255  30.146433  118.165711  30.140493  170,-111        NaN\n",
       "12  YG_D  456  -310        9  118.200462  30.127286  118.194271  30.120649  456,-310        NaN\n",
       "13  YG_U  270  -141       10  118.182083  30.143622  118.175640  30.137501  270,-141        NaN\n",
       "14   YKS  272  -294       11  118.181310  30.128473  118.175860  30.122269  272,-294        NaN\n",
       "15  YP_D  229  -459       12  118.177879  30.111479  118.171531  30.105693  229,-459        NaN\n",
       "16  YP_U  211  -377       13  118.179981  30.129270  118.169814  30.113967  211,-377        NaN"
      ]
     },
     "execution_count": 195,
     "metadata": {},
     "output_type": "execute_result"
    }
   ],
   "source": [
    "data = tencent_data.data.iloc[180]\n",
    "data = str2dataframe2(data)\n",
    "\n",
    "pd.merge(area_location, data[['loc_str','human_cnt']], on='loc_str', how='left')"
   ]
  },
  {
   "cell_type": "code",
   "execution_count": null,
   "metadata": {
    "collapsed": true
   },
   "outputs": [],
   "source": []
  }
 ],
 "metadata": {
  "kernelspec": {
   "display_name": "Python 3",
   "language": "python",
   "name": "python3"
  },
  "language_info": {
   "codemirror_mode": {
    "name": "ipython",
    "version": 3
   },
   "file_extension": ".py",
   "mimetype": "text/x-python",
   "name": "python",
   "nbconvert_exporter": "python",
   "pygments_lexer": "ipython3",
   "version": "3.6.1"
  },
  "toc": {
   "colors": {
    "hover_highlight": "#000000",
    "navigate_num": "#000000",
    "navigate_text": "#333333",
    "running_highlight": "#FF0000",
    "selected_highlight": "#FFD700",
    "sidebar_border": "#EEEEEE",
    "wrapper_background": "#FFFFFF"
   },
   "moveMenuLeft": true,
   "nav_menu": {
    "height": "89px",
    "width": "254px"
   },
   "navigate_menu": true,
   "number_sections": true,
   "sideBar": true,
   "threshold": 4,
   "toc_cell": true,
   "toc_position": {
    "height": "858px",
    "left": "0px",
    "right": "1468px",
    "top": "131px",
    "width": "212px"
   },
   "toc_section_display": "block",
   "toc_window_display": true,
   "widenNotebook": false
  }
 },
 "nbformat": 4,
 "nbformat_minor": 2
}
