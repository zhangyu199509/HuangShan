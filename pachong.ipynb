{
 "cells": [
  {
   "cell_type": "code",
   "execution_count": 48,
   "metadata": {},
   "outputs": [],
   "source": [
    "# -*- coding: UTF-8 -*-\n",
    "import pandas as pd\n",
    "import numpy as np\n",
    "import urllib.request\n",
    "import urllib\n",
    "from datetime import datetime\n",
    "import time\n",
    "url = 'https://heat.qq.com/api/getHeatDataByDate.php?region_id=1178&date='\n",
    "\n",
    "def html_download(beginDate, endDate):\n",
    "    # beginDate, endDate是形如‘20160601’的字符串或datetime格式\n",
    "    date_l=[datetime.strftime(x,'%Y-%m-%d') for x in list(pd.date_range(start=beginDate, end=endDate))]\n",
    "    html = {}\n",
    "    user_agent=\"Mozilla/5.0 (Windows NT 10.0; Win64; x64) AppleWebKit/537.36 (KHTML, like Gecko) Chrome/51.0.2704.103 Safari/537.36\"\n",
    "    headers={\"User-Agent\":user_agent}\n",
    "    for date in date_l:\n",
    "        url_temp = url + date\n",
    "        request = urllib.request.Request(url_temp, headers=headers)\n",
    "        response = urllib.request.urlopen(request)\n",
    "        html[date] = response.read()\n",
    "        time.sleep(3)\n",
    "    return html,date_l\n",
    "\n",
    "html,date_l = html_download('20171001', '20171008')"
   ]
  },
  {
   "cell_type": "code",
   "execution_count": 49,
   "metadata": {
    "collapsed": true
   },
   "outputs": [],
   "source": [
    "for i in range(len(html)):\n",
    "    html_temp = eval(html[date_l[i]])\n",
    "    html_temp = pd.Series(html_temp)\n",
    "    html_temp = html_temp.reset_index()\n",
    "    html_temp.columns = ['time','data']\n",
    "    html_temp.to_csv('/Users/zhangyu/Desktop/HuangShan/TencentData/'+date_l[i]+'.csv')"
   ]
  },
  {
   "cell_type": "code",
   "execution_count": null,
   "metadata": {
    "collapsed": true
   },
   "outputs": [],
   "source": []
  }
 ],
 "metadata": {
  "kernelspec": {
   "display_name": "Python 3",
   "language": "python",
   "name": "python3"
  },
  "language_info": {
   "codemirror_mode": {
    "name": "ipython",
    "version": 3
   },
   "file_extension": ".py",
   "mimetype": "text/x-python",
   "name": "python",
   "nbconvert_exporter": "python",
   "pygments_lexer": "ipython3",
   "version": "3.6.1"
  },
  "toc": {
   "colors": {
    "hover_highlight": "#DAA520",
    "navigate_num": "#000000",
    "navigate_text": "#333333",
    "running_highlight": "#FF0000",
    "selected_highlight": "#FFD700",
    "sidebar_border": "#EEEEEE",
    "wrapper_background": "#FFFFFF"
   },
   "moveMenuLeft": true,
   "nav_menu": {
    "height": "4px",
    "width": "254px"
   },
   "navigate_menu": true,
   "number_sections": true,
   "sideBar": true,
   "threshold": 4,
   "toc_cell": false,
   "toc_section_display": "block",
   "toc_window_display": false,
   "widenNotebook": false
  }
 },
 "nbformat": 4,
 "nbformat_minor": 2
}
