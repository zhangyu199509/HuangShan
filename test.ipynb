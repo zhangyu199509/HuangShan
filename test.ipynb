{
 "cells": [
  {
   "cell_type": "code",
   "execution_count": 43,
   "metadata": {
    "collapsed": false
   },
   "outputs": [],
   "source": [
    "import numpy as np\n",
    "X = np.array([[1,1,2], [2,1,3], [3,1.2,1], [4,1,3], [5,0.8,2], [6,1,1]])\n",
    "from sklearn.decomposition import NMF\n",
    "model = NMF(n_components=3, init='random', random_state=0)\n",
    "mm = model.fit(X)"
   ]
  },
  {
   "cell_type": "code",
   "execution_count": 38,
   "metadata": {
    "collapsed": false
   },
   "outputs": [
    {
     "data": {
      "text/plain": [
       "array([[ 0.11974374,  0.58386684],\n",
       "       [ 0.43732783,  0.80992528],\n",
       "       [ 1.35345751,  0.19326676],\n",
       "       [ 1.47131705,  0.690618  ],\n",
       "       [ 2.18740815,  0.33083301],\n",
       "       [ 2.90394818,  0.        ]])"
      ]
     },
     "execution_count": 38,
     "metadata": {},
     "output_type": "execute_result"
    }
   ],
   "source": [
    "W = mm.fit_transform(X)\n",
    "W"
   ]
  },
  {
   "cell_type": "code",
   "execution_count": 39,
   "metadata": {
    "collapsed": false
   },
   "outputs": [
    {
     "data": {
      "text/plain": [
       "array([[ 1.03414659,  0.68685938,  2.08620216],\n",
       "       [ 1.9955765 ,  1.04019292,  2.98899077],\n",
       "       [ 3.0600072 ,  0.65072569,  1.15105453],\n",
       "       [ 3.97372224,  1.24091879,  2.93368827],\n",
       "       [ 4.97036614,  1.07220007,  1.92500241],\n",
       "       [ 6.00693612,  0.93577167,  1.0178404 ]])"
      ]
     },
     "execution_count": 39,
     "metadata": {},
     "output_type": "execute_result"
    }
   ],
   "source": [
    "mm.inverse_transform(W)"
   ]
  },
  {
   "cell_type": "code",
   "execution_count": 40,
   "metadata": {
    "collapsed": false
   },
   "outputs": [
    {
     "data": {
      "text/plain": [
       "array([[ 2.06854109,  0.32224117,  0.35050226],\n",
       "       [ 1.34697107,  1.1103097 ,  3.50119506]])"
      ]
     },
     "execution_count": 40,
     "metadata": {},
     "output_type": "execute_result"
    }
   ],
   "source": [
    "model.components_"
   ]
  },
  {
   "cell_type": "code",
   "execution_count": 45,
   "metadata": {
    "collapsed": false
   },
   "outputs": [
    {
     "data": {
      "text/plain": [
       "0.006608640993659931"
      ]
     },
     "execution_count": 45,
     "metadata": {},
     "output_type": "execute_result"
    }
   ],
   "source": [
    "model.reconstruction_err_"
   ]
  }
 ],
 "metadata": {
  "anaconda-cloud": {},
  "kernelspec": {
   "display_name": "Python 2",
   "language": "python",
   "name": "python2"
  },
  "language_info": {
   "codemirror_mode": {
    "name": "ipython",
    "version": 2
   },
   "file_extension": ".py",
   "mimetype": "text/x-python",
   "name": "python",
   "nbconvert_exporter": "python",
   "pygments_lexer": "ipython2",
   "version": "2.7.13"
  }
 },
 "nbformat": 4,
 "nbformat_minor": 0
}
